{
 "cells": [
  {
   "cell_type": "code",
   "execution_count": 1,
   "metadata": {},
   "outputs": [],
   "source": [
    "# Using python instead of php\n",
    "\n",
    "# Import pandas for access to dataframes, glob to get all csv file names into a list\n",
    "import pandas as pd\n",
    "import glob"
   ]
  },
  {
   "cell_type": "code",
   "execution_count": 2,
   "metadata": {},
   "outputs": [],
   "source": [
    "# define function with list type argument csv_list and a str for resulting file name\n",
    "def combine_csv(csv_list,file_name = 'combined.csv'):\n",
    "    new_list = [] # new list that contains dataframes from csv_list, adding a new series called filename\n",
    "    for i in csv_list: # loop over list to append dataframes of each csv\n",
    "        df = pd.read_csv(i)\n",
    "        df['filename'] = i\n",
    "        new_list.append(df)\n",
    "    combined_csv = pd.concat(y for y in new_list) # combine csv\n",
    "    combined_csv.to_csv(file_name, index=False, header=True) # export as csv with file name"
   ]
  },
  {
   "cell_type": "code",
   "execution_count": 3,
   "metadata": {},
   "outputs": [],
   "source": [
    "# get list with all csv file names in working directory\n",
    "extension = 'csv'\n",
    "csv_files = [i for i in glob.glob('*.{}'.format(extension))] \n",
    "combine_csv(csv_files)"
   ]
  },
  {
   "cell_type": "code",
   "execution_count": 4,
   "metadata": {},
   "outputs": [
    {
     "name": "stdout",
     "output_type": "stream",
     "text": [
      "Partition of a set of 510495 objects. Total size = 60089020 bytes.\n",
      " Index  Count   %     Size   % Cumulative  % Kind (class / dict of class)\n",
      "     0 240127  47 25168165  42  25168165  42 str\n",
      "     1 107293  21  8202392  14  33370557  56 tuple\n",
      "     2  49190  10  3761869   6  37132426  62 bytes\n",
      "     3  24900   5  3604768   6  40737194  68 types.CodeType\n",
      "     4   9560   2  3078248   5  43815442  73 dict (no owner)\n",
      "     5  22569   4  3069384   5  46884826  78 function\n",
      "     6   2683   1  2520896   4  49405722  82 type\n",
      "     7   1194   0  1788896   3  51194618  85 dict of module\n",
      "     8   2316   0  1495976   2  52690594  88 list\n",
      "     9   2683   1  1441320   2  54131914  90 dict of type\n",
      "<954 more rows. Type e.g. '_.more' to view.>\n"
     ]
    }
   ],
   "source": [
    "# use guppy to profile memory usage\n",
    "from guppy import hpy\n",
    "h = hpy()\n",
    "print(h.heap())"
   ]
  }
 ],
 "metadata": {
  "kernelspec": {
   "display_name": "Python 3",
   "language": "python",
   "name": "python3"
  },
  "language_info": {
   "codemirror_mode": {
    "name": "ipython",
    "version": 3
   },
   "file_extension": ".py",
   "mimetype": "text/x-python",
   "name": "python",
   "nbconvert_exporter": "python",
   "pygments_lexer": "ipython3",
   "version": "3.7.3"
  }
 },
 "nbformat": 4,
 "nbformat_minor": 2
}
